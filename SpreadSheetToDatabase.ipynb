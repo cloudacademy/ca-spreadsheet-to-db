{
 "cells": [
  {
   "cell_type": "markdown",
   "metadata": {},
   "source": [
    "# Spreadsheet to Database"
   ]
  },
  {
   "cell_type": "markdown",
   "metadata": {},
   "source": [
    "This tutorial is targeted at Data Engineering beginners.  In this lab we will upgrade our inventory management system from a spreadsheet into a database."
   ]
  },
  {
   "cell_type": "markdown",
   "metadata": {},
   "source": [
    "### What is a Database"
   ]
  },
  {
   "cell_type": "markdown",
   "metadata": {},
   "source": [
    "A _database_, at its core, is an organized collection of data. Databases are meant to be fast at retrieving, storing, and updating these collections. To help keep things organized, a database keeps related data in a collection called a _table_. Data is stored inside a table as _columns_ and _rows_. The _columns_ identify the data that is being stored in the table, and the _rows_ are the actual data itself. Refer to the figure below for a basic example of organized data inside the database, with rows and columns.\n",
    "\n",
    "| name | city | code |\n",
    "|-------|-------|-------|\n",
    "| Detroit Metropolitan Airport | Romulous | DTW |\n",
    "| Seattle-Tacoma International Airport | SeaTac | SEA |\n",
    "| Los Angeles International Airport | Los Angeles | LAX |"
   ]
  },
  {
   "cell_type": "markdown",
   "metadata": {},
   "source": [
    "### Moving Inventory Data from a Spreadsheet into a Database"
   ]
  },
  {
   "cell_type": "markdown",
   "metadata": {},
   "source": [
    "#### Create the Database\n",
    "In this lab we will be importing our sample inventory data from a CSV into a SQL Database. First in Amazon lets create a database.\n",
    "\n",
    "1) [Navigate to Amazon RDS](https://console.aws.amazon.com/rds/home?region=us-west-2#databases:)\n",
    "\n",
    "2) Select Create database\n",
    "\n",
    "3) Select Engine Type: `MySql`, version: choose the latest `MySQL 8.0.xx` version, templates: `Free Tier`\n",
    "![MySql Config](./assets/lab1/database_configure.png)\n",
    "![Template](./assets/lab1/db_template.png)\n",
    "\n",
    "4) Give the database a name, for example: `InventoryDB` and a password, such as `demotest123`.  \n",
    "![MySql Config pt2](./assets/lab1/database_configure_2.png)\n",
    "\n",
    "5) Ensure the DB instance class is `db.t3.micro`\n",
    "![MySql Config pt3](./assets/lab1/database_configure_instance_class.png)\n",
    "\n",
    "6) Adjust the `Allocated storage` to `20GiB` and unselect `Enable storage autoscaling` under `Storage`\n",
    "![MySql Config pt4](./assets/lab1/database_configure_storage.png)\n",
    "\n",
    "7) Ensure the database is publicly accessible under the `Additional connectivity configuration` and add the `cloudacademylabs-MySQLSecurityGroup-...` security group, so that SageMaker can connect.\n",
    "![MySql Config pt5](./assets/lab1/database_configure_public.png)\n",
    "\n",
    "8) Leave the rest of the settings the same and click `Create Database`\n",
    "\n",
    "Sit back and wait for Amazon to create the database. It usually completes in under 10 minutes.\n",
    "\n",
    "#### Ensure We Can Connect From SageMaker and Create Database\n",
    "    "
   ]
  },
  {
   "cell_type": "markdown",
   "metadata": {},
   "source": [
    "Click your database name to view it's details. Under the connectivity and security portion, find the endpoint and copy it into the code below, followed by the password you set for the RDS database.\n",
    "![database hostname](./assets/lab1/database_hostname.png)"
   ]
  },
  {
   "cell_type": "code",
   "execution_count": 22,
   "metadata": {},
   "outputs": [
    {
     "name": "stdout",
     "output_type": "stream",
     "text": [
      "Requirement already satisfied: mysql-connector in /home/ec2-user/anaconda3/envs/python3/lib/python3.6/site-packages (2.2.9)\n",
      "\u001b[33mYou are using pip version 10.0.1, however version 20.2b1 is available.\n",
      "You should consider upgrading via the 'pip install --upgrade pip' command.\u001b[0m\n",
      "bytearray(b'information_schema')\n",
      "bytearray(b'inventory')\n",
      "bytearray(b'mysql')\n",
      "bytearray(b'performance_schema')\n"
     ]
    }
   ],
   "source": [
    "! pip install mysql-connector\n",
    "\n",
    "import mysql.connector\n",
    "## Make sure the Host matches your RDS instance along with the username/password created earlier.\n",
    "host = \"inventorydb.cmzr2pvb7lzt.us-west-2.rds.amazonaws.com\"\n",
    "user = \"admin\"\n",
    "passwd = \"demotest123\"\n",
    "mydb = mysql.connector.connect(\n",
    "  host=host,\n",
    "  user=user,\n",
    "  passwd=passwd\n",
    ")\n",
    "\n",
    "cursor = mydb.cursor()\n",
    "cursor.execute(\"CREATE DATABASE IF NOT EXISTS inventory\")\n",
    "cursor.execute(\"show databases\") \n",
    "\n",
    "for (databases) in cursor:\n",
    "     print (databases[0])"
   ]
  },
  {
   "cell_type": "markdown",
   "metadata": {},
   "source": [
    "### Create the Table\n",
    "Next we must create the table within the Database which will hold our inventory data.  We will call this table `product_table` which is defined by a _schema_ which contains the various columns along with datatypes. Our schema is: ` product_table (ProductName varchar(50),Description varchar(255),ProductSku bigint(12),QuantityInStock int(5),ReorderLevel int(5),WholeSaleCost decimal(8,2),RetailCost decimal(8,2))`"
   ]
  },
  {
   "cell_type": "code",
   "execution_count": 102,
   "metadata": {},
   "outputs": [
    {
     "name": "stdout",
     "output_type": "stream",
     "text": [
      "Requirement already satisfied: mysql-connector in /home/ec2-user/anaconda3/envs/python3/lib/python3.6/site-packages (2.2.9)\n",
      "\u001b[33mYou are using pip version 10.0.1, however version 20.2b1 is available.\n",
      "You should consider upgrading via the 'pip install --upgrade pip' command.\u001b[0m\n"
     ]
    }
   ],
   "source": [
    "! pip install mysql-connector\n",
    "\n",
    "import mysql.connector\n",
    "mydb = mysql.connector.connect(\n",
    "  host=host,\n",
    "  user=user,\n",
    "  passwd=passwd,\n",
    "  database=\"inventory\"\n",
    ")\n",
    "\n",
    "cursor = mydb.cursor()\n",
    "cursor.execute(\"CREATE TABLE IF NOT EXISTS product_table (ProductName varchar(50),Description varchar(255),ProductSku bigint(12),QuantityInStock int(5),ReorderLevel int(5),WholeSaleCost decimal(8,2),RetailCost decimal(8,2));\")"
   ]
  },
  {
   "cell_type": "markdown",
   "metadata": {},
   "source": [
    "#### **Lab**: Try filling in the code below to list the tables that exist in the database.  The SQL we will use is `show tables`, see the above example on viewing the databases and modify it to show the tables."
   ]
  },
  {
   "cell_type": "code",
   "execution_count": 34,
   "metadata": {},
   "outputs": [
    {
     "name": "stdout",
     "output_type": "stream",
     "text": [
      "Requirement already satisfied: mysql-connector in /home/ec2-user/anaconda3/envs/python3/lib/python3.6/site-packages (2.2.9)\n",
      "\u001b[33mYou are using pip version 10.0.1, however version 20.2b1 is available.\n",
      "You should consider upgrading via the 'pip install --upgrade pip' command.\u001b[0m\n"
     ]
    }
   ],
   "source": [
    "! pip install mysql-connector\n",
    "\n",
    "import mysql.connector\n",
    "## Make sure the Host matches your RDS instance along with the username/password created earlier.\n",
    "mydb = mysql.connector.connect(\n",
    "  host=host,\n",
    "  user=user,\n",
    "  passwd=passwd,\n",
    "  database=\"inventory\"\n",
    ")\n",
    "\n",
    "cursor = mydb.cursor()\n",
    "\n",
    "##Fill in the code here to view the tables on our database"
   ]
  },
  {
   "cell_type": "markdown",
   "metadata": {},
   "source": [
    "### Import the data from CSV into SQL Table"
   ]
  },
  {
   "cell_type": "markdown",
   "metadata": {},
   "source": [
    "Now we will import our data from the provided `Lab1_inventory.csv` into our newly created table.  The code below iterates through the csv provided, and inserts every row into our table.\n"
   ]
  },
  {
   "cell_type": "code",
   "execution_count": 98,
   "metadata": {},
   "outputs": [
    {
     "name": "stdout",
     "output_type": "stream",
     "text": [
      "Requirement already satisfied: mysql-connector in /home/ec2-user/anaconda3/envs/python3/lib/python3.6/site-packages (2.2.9)\n",
      "\u001b[33mYou are using pip version 10.0.1, however version 20.2b1 is available.\n",
      "You should consider upgrading via the 'pip install --upgrade pip' command.\u001b[0m\n",
      "Inserted Row\n",
      "Inserted Row\n",
      "Inserted Row\n",
      "Inserted Row\n",
      "Success!\n"
     ]
    }
   ],
   "source": [
    "! pip install mysql-connector\n",
    "import mysql.connector\n",
    "import csv\n",
    "\n",
    "mydb = mysql.connector.connect(\n",
    "  host=host,\n",
    "  user=user,\n",
    "  passwd=passwd,\n",
    "  database=\"inventory\"\n",
    ")\n",
    "\n",
    "\n",
    "cur = mydb.cursor()\n",
    "\n",
    "csv_data = csv.reader(open('./data_files/Lab1_Inventory.csv'), delimiter=',')\n",
    "\n",
    "# This removes the header\n",
    "next(csv_data) \n",
    "\n",
    "# Process each row in the CSV\n",
    "for row in csv_data:\n",
    "        cur.execute (\"INSERT INTO product_table (ProductName,Description,ProductSku,QuantityInStock,ReorderLevel,WholeSaleCost,RetailCost) VALUES (%s, %s, %s, %s, %s, %s, %s)\",row)\n",
    "        print(\"Inserted Row\")\n",
    "mydb.commit()\n",
    "print(\"Success!\")"
   ]
  },
  {
   "cell_type": "markdown",
   "metadata": {},
   "source": [
    "After executing the above Python code your table is now populated!  "
   ]
  },
  {
   "cell_type": "markdown",
   "metadata": {},
   "source": [
    "### View The Data in the Table"
   ]
  },
  {
   "cell_type": "code",
   "execution_count": 103,
   "metadata": {},
   "outputs": [
    {
     "name": "stdout",
     "output_type": "stream",
     "text": [
      "Requirement already satisfied: mysql-connector in /home/ec2-user/anaconda3/envs/python3/lib/python3.6/site-packages (2.2.9)\n",
      "\u001b[33mYou are using pip version 10.0.1, however version 20.2b1 is available.\n",
      "You should consider upgrading via the 'pip install --upgrade pip' command.\u001b[0m\n",
      "[('Mens Shampoo', 'Best brand Mens Shampoo', 1034403303, 10, 3, Decimal('3.25'), Decimal('6.99')), ('ScrewDriver Toolset', '3 Phillips, 2 Flathead toolset', 103443101, 4, 4, Decimal('8.00'), Decimal('12.99')), ('KeepFresh Detergent', 'Original detegent scent for washing clothes', 1034411101, 15, 3, Decimal('8.25'), Decimal('13.99')), ('MouthWash', 'Fresh Mint Mout wash', 122033020, 1, 5, Decimal('3.14'), Decimal('4.99')), ('Sample Product', 'Sample Description', 123456, 4, 2, Decimal('3.55'), Decimal('9.99'))]\n"
     ]
    }
   ],
   "source": [
    "! pip install mysql-connector\n",
    "\n",
    "import mysql.connector\n",
    "\n",
    "mydb = mysql.connector.connect(\n",
    "  host=host,\n",
    "  user=user,\n",
    "  passwd=passwd,\n",
    "  database=\"inventory\"\n",
    ")\n",
    "\n",
    "cursor = mydb.cursor()\n",
    "cursor.execute(\"SELECT * FROM product_table\") \n",
    "\n",
    "result = cursor.fetchall()\n",
    "print(result)\n"
   ]
  },
  {
   "cell_type": "markdown",
   "metadata": {},
   "source": [
    "#### **Lab:** Add your own data into the table!\n",
    "Using the SQL Insert Statement add a couple rows into the table, and then display the result. Example: `INSERT INTO product_table (ProductName,Description,ProductSku,QuantityInStock,ReorderLevel,WholeSaleCost,RetailCost) VALUES ('Sample Product', 'Sample Description', 123456, 4, 2, 3.55, 9.99)`\n"
   ]
  },
  {
   "cell_type": "code",
   "execution_count": 105,
   "metadata": {},
   "outputs": [
    {
     "name": "stdout",
     "output_type": "stream",
     "text": [
      "Requirement already satisfied: mysql-connector in /home/ec2-user/anaconda3/envs/python3/lib/python3.6/site-packages (2.2.9)\n",
      "\u001b[33mYou are using pip version 10.0.1, however version 20.2b1 is available.\n",
      "You should consider upgrading via the 'pip install --upgrade pip' command.\u001b[0m\n",
      "[('Mens Shampoo', 'Best brand Mens Shampoo', 1034403303, 10, 3, Decimal('3.25'), Decimal('6.99')), ('ScrewDriver Toolset', '3 Phillips, 2 Flathead toolset', 103443101, 4, 4, Decimal('8.00'), Decimal('12.99')), ('KeepFresh Detergent', 'Original detegent scent for washing clothes', 1034411101, 15, 3, Decimal('8.25'), Decimal('13.99')), ('MouthWash', 'Fresh Mint Mout wash', 122033020, 1, 5, Decimal('3.14'), Decimal('4.99')), ('Sample Product', 'Sample Description', 123456, 4, 2, Decimal('3.55'), Decimal('9.99'))]\n"
     ]
    }
   ],
   "source": [
    "! pip install mysql-connector\n",
    "import mysql.connector\n",
    "import csv\n",
    "\n",
    "mydb = mysql.connector.connect(\n",
    "  host=host,\n",
    "  user=user,\n",
    "  passwd=passwd,\n",
    "  database=\"inventory\"\n",
    ")\n",
    "\n",
    "cursor = mydb.cursor()\n",
    "## Add your own execute Insert statement here!    \n",
    " \n",
    "mydb.commit()\n",
    "\n",
    "## Prints out the rows in the table\n",
    "cursor.execute(\"SELECT * FROM product_table\") \n",
    "\n",
    "result = cursor.fetchall()\n",
    "print(result)"
   ]
  },
  {
   "cell_type": "markdown",
   "metadata": {},
   "source": [
    "### Querying Our Data"
   ]
  },
  {
   "cell_type": "markdown",
   "metadata": {},
   "source": [
    "A query is a question we ask the database about our data. The language of retrieving our data is call _Structured Query Language_ or _SQL_.  \n",
    "To ask our database a question we must do so in the format `SELECT * FROM product_table WHERE WholeSaleCost > 7` The field `WholeSaleCost` can be any colume in our database.  Check out [SQL Operators from W3](https://www.w3schools.com/sql/sql_operators.asp) to understand the questions we can ask about our data."
   ]
  },
  {
   "cell_type": "markdown",
   "metadata": {},
   "source": [
    "#### **Lab:** Try querying our database to find products that have a retail cost more than $6."
   ]
  },
  {
   "cell_type": "code",
   "execution_count": 108,
   "metadata": {},
   "outputs": [
    {
     "name": "stdout",
     "output_type": "stream",
     "text": [
      "Requirement already satisfied: mysql-connector in /home/ec2-user/anaconda3/envs/python3/lib/python3.6/site-packages (2.2.9)\n",
      "\u001b[33mYou are using pip version 10.0.1, however version 20.2b1 is available.\n",
      "You should consider upgrading via the 'pip install --upgrade pip' command.\u001b[0m\n",
      "[('Mens Shampoo', 'Best brand Mens Shampoo', 1034403303, 10, 3, Decimal('3.25'), Decimal('6.99')), ('ScrewDriver Toolset', '3 Phillips, 2 Flathead toolset', 103443101, 4, 4, Decimal('8.00'), Decimal('12.99')), ('KeepFresh Detergent', 'Original detegent scent for washing clothes', 1034411101, 15, 3, Decimal('8.25'), Decimal('13.99')), ('Sample Product', 'Sample Description', 123456, 4, 2, Decimal('3.55'), Decimal('9.99'))]\n"
     ]
    }
   ],
   "source": [
    "! pip install mysql-connector\n",
    "\n",
    "import mysql.connector\n",
    "\n",
    "mydb = mysql.connector.connect(\n",
    "  host=host,\n",
    "  user=user,\n",
    "  passwd=passwd,\n",
    "  database=\"inventory\"\n",
    ")\n",
    "\n",
    "cursor = mydb.cursor()\n",
    "## Fill out the Query to find products that have a retail cost greater than $6\n",
    "\n",
    "result = cursor.fetchall()\n",
    "print(result)"
   ]
  },
  {
   "cell_type": "code",
   "execution_count": null,
   "metadata": {},
   "outputs": [],
   "source": []
  }
 ],
 "metadata": {
  "kernelspec": {
   "display_name": "conda_python3",
   "language": "python",
   "name": "conda_python3"
  },
  "language_info": {
   "codemirror_mode": {
    "name": "ipython",
    "version": 3
   },
   "file_extension": ".py",
   "mimetype": "text/x-python",
   "name": "python",
   "nbconvert_exporter": "python",
   "pygments_lexer": "ipython3",
   "version": "3.6.5"
  }
 },
 "nbformat": 4,
 "nbformat_minor": 4
}
